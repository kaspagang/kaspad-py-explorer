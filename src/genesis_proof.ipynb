{
 "cells": [
  {
   "cell_type": "markdown",
   "metadata": {},
   "source": [
    "# Verifying the Integrity of the Kaspa Chain\r\n",
    "### Authors: Shai Wyborski, Michael Sutton\r\n",
    "\r\n",
    "The purpose of this notebook is to guide you through the process of verifying the authenticity of the Kaspa chain. That is, to show you how to cryptographically verify that the current UTXO set of Kaspa has naturally evolved from an empty UTXO set, validating the assertion that there was no premine.\r\n",
    "\r\n",
    "As you might know, about two weeks after mainnet launched the network a major bug caused the network to split. The effects of the bug started to appear during Nov' 22, 2021, and by Nov' 23, 2021 the network was completely fragmented. To restart the network after fixing the bug, many users were asked to provide their node data prior to the crash. The devs examined the data to isolate the latest possible block known to most of the network, the chosen block is the block with hash\r\n",
    "\r\n",
    ">0fca37ca667c2d550a6c4416dad9717e50927128c424fa4edbebc436ab13aeef\r\n",
    "\r\n",
    "whose timestamp is\r\n",
    "\r\n",
    ">Monday, November 22, 2021 7:34:31.\r\n",
    "\r\n",
    "We call this block the `checkpoint block`.\r\n",
    "\r\n",
    "The new node was hardwired with a new genesis block whose UTXO set is identical to that of the block described above, which we call the `hardwired genesis`. The node data can only be used to authenticate the chain down to the hardwired genesis. (You can read more about the malfunction and how it was consolidated __[here](https://t.co/DhyAnxoU1t)__, __[here](https://t.co/MlxFT1svkX)__, and __[here](https://hashdag.medium.com/kaspa-black-tuesday-8c7f4fa35834)__. Also, it is impossible to prove from the node data alone that the UTXO set of the hardwired genesis indeed matches the UTXO set of the checkpoint block.\r\n",
    "\r\n",
    "To fill in this gap, we asked the community to store copies of the data directory at the time of the crash (available e.g. __[here](https://mega.nz/file/rOJmhLIR#5j7wko32Mh0MlsQnC9yVG6jCvPql7Isqcyvgh3kmxKk)__). With this data available, all of the above could be verified.\r\n",
    "\r\n",
    "The authentication process is as follows:\r\n",
    "<ol>\r\n",
    "<li>Verify the hashes of the pruning block chain. That is, verify that the hash of each header matches the hash stored in the header pointing at it (such checks seem tautological, e.g. it is \"obvious\" that \"the block whose hash is x has hash x\". However, relying on the assumption that the hash used to index the headers is the same as the hash used in consensus is insecure, and actually highly exploitable).</li>\r\n",
    "<li>Reconstruct the coinbase transaction with the payload hardwired into the code and verify that it hashes correctly.</li>\r\n",
    "<li>Verify that the hash of the checkpoint block matches the one advertised in Discord.</li>\r\n",
    "<li>To provide additional proof that the hardwired genesis block was created at the time specified above, the hash of the most recent Bitcoin block was included in the data committed to the genesis block. This is a cryptographic version of taking a picture with today's newspaper. Look up the hash in Bitcoin's block explorer and verify that its timestamp matches the time the network resumed operation.</li>\r\n",
    "<li>Recover the UTXO set of the checkpoint block from the stored data directory, compute its hash, and verify that it matches the UTXO commitment stored in the hardwired genesis header.</li>\r\n",
    "<li>Recover the pruning headers from the snapshot, and repeat the first step going from the hardwired genesis block to the original genesis block.</li>\r\n",
    "<li>Verify that the UTXO commitment in the original genesis block corresponds to an empty UTXOset.</li>\r\n",
    "</ol>\r\n",
    "\r\n",
    "We will now walk through the code that does all that (the code was written and run on a linux machine, running it on other operating syst.ms might require adaptations)."
   ]
  },
  {
   "cell_type": "markdown",
   "metadata": {},
   "source": [
    "The first part of the code is not particularly interesting, just note that all of the imported directories are standard Python directories."
   ]
  },
  {
   "cell_type": "code",
   "execution_count": 17,
   "metadata": {},
   "outputs": [],
   "source": [
    "import os\n",
    "import numpy as np\n",
    "import pandas as pd\n",
    "from store import *\n",
    "import kbech32"
   ]
  },
  {
   "cell_type": "markdown",
   "metadata": {},
   "source": [
    "The next code block implements the logic of hashing a header/transaction. It does nothing but serialize the contents of the structure and passing it to the standard implementation of blake. The dilligent reader might want to verify that the fields are serialized the same way in both implementations. However, this is not necessary, since if they are serialized differently and still produce the same hash this essentially means we found a collission in blake2b, which is believed to be collision resistant. "
   ]
  },
  {
   "cell_type": "code",
   "execution_count": 2,
   "metadata": {},
   "outputs": [],
   "source": [
    "import hashlib\n",
    "import struct\n",
    "\n",
    "# Relevant hashing functions as implemented by the golang \n",
    "# and rust kaspa codebases\n",
    "# Note: uses only standart hash libs\n",
    "\n",
    "def transaction_hash(t):\n",
    "    hasher = hashlib.blake2b(digest_size=32, key=b\"TransactionHash\")\n",
    "    hasher.update(struct.pack(f\"<HQ\", t.version, len(t.inputs)))\n",
    "    for ti in t.inputs:\n",
    "        hasher.update(ti.previousOutpoint.transactionID.transactionId)\n",
    "        hasher.update(struct.pack(f\"<IQ\", ti.previousOutpoint.index, \n",
    "                                  len(ti.signatureScript)))\n",
    "        hasher.update(ti.signatureScript)\n",
    "        # Note: a subsequent HF added sig_op_count hashing here\n",
    "        hasher.update(struct.pack(f\"<Q\", ti.sequence))\n",
    "\n",
    "    hasher.update(struct.pack(f\"<Q\", len(t.outputs)))\n",
    "    for to in t.outputs:\n",
    "        hasher.update(struct.pack(f\"<QHQ\", to.value, \n",
    "                                  to.scriptPublicKey.version, \n",
    "                                  len(to.scriptPublicKey.script)))\n",
    "        hasher.update(to.scriptPublicKey.script)\n",
    "        \n",
    "    hasher.update(struct.pack(f\"<Q\", t.lockTime))\n",
    "    hasher.update(t.subnetworkID.subnetworkId)\n",
    "    hasher.update(struct.pack(f\"<QQ\", t.gas, len(t.payload)))\n",
    "    hasher.update(t.payload)\n",
    "    return hasher.digest()\n",
    "\n",
    "def header_hash(h):\n",
    "    hasher = hashlib.blake2b(digest_size=32, key=b\"BlockHash\")\n",
    "    hasher.update(struct.pack(f\"<HQ\", h.version, len(h.parents)))\n",
    "    for level_parents in h.parents:\n",
    "        hasher.update(struct.pack(f\"<Q\", len(level_parents.parentHashes)))\n",
    "        for parent in level_parents.parentHashes:\n",
    "            hasher.update(parent.hash)\n",
    "    hasher.update(h.hashMerkleRoot.hash)    \n",
    "    hasher.update(h.acceptedIDMerkleRoot.hash)\n",
    "    hasher.update(h.utxoCommitment.hash)\n",
    "    hasher.update(struct.pack(f\"<QIQQQQ\", \n",
    "                              h.timeInMilliseconds, \n",
    "                              h.bits, \n",
    "                              h.nonce, \n",
    "                              h.daaScore, \n",
    "                              h.blueScore, \n",
    "                              len(h.blueWork)))\n",
    "    hasher.update(h.blueWork)\n",
    "    hasher.update(h.pruningPoint.hash)\n",
    "    return hasher.digest()"
   ]
  },
  {
   "cell_type": "markdown",
   "metadata": {},
   "source": [
    "The next code block implements the logic to perform checks 1. and 7. above. Each pruning block stores the hash of the next pruning block, this code verifies that all pruning blocks indeed hash correctly to the hash stored in the next pruning block. Note that this check is not actually performed yet."
   ]
  },
  {
   "cell_type": "code",
   "execution_count": 3,
   "metadata": {},
   "outputs": [],
   "source": [
    "# Asserts a verified chaih of hashes from the givan block to the given genesis\n",
    "def assert_cryptographic_hash_chain_to_genesis(\n",
    "    store, \n",
    "    block_hash, \n",
    "    genesis_hash):\n",
    "    \n",
    "    i = 0\n",
    "    while True:\n",
    "        if block_hash == genesis_hash:\n",
    "            print('Reached the queried genesis block: \\n', \n",
    "                  genesis_hash.hex(), 'via', i, 'pruning points')\n",
    "            return\n",
    "        header = store.get_raw_header(block_hash)\n",
    "        # Assert the block hash is correct\n",
    "        assert(header_hash(header) == block_hash)\n",
    "        block_hash = header.pruningPoint.hash\n",
    "        i += 1"
   ]
  },
  {
   "cell_type": "markdown",
   "metadata": {},
   "source": [
    "The next two blocks copy the data required from the golang implementation. By following the links in the comments one can verify that they match the data used by nodes after the hard-fork. At the very bottom of the second block we see that the checkpoint block hash indeed matches the hash posted to Discord. We can also see that the payload contains the hash of a __[Bitcoin block](https://blockstream.info/block/0000000000000000000b1f8e1c17b0133d439174e52efbb0c41c3583a8aa66b0)__ with the following timestamp:\n",
    "> 2021-11-25 19:53:36 GMT +2\n",
    "\n",
    "Which matches the time the network __[resumed operation](https://discord.com/channels/599153230659846165/844142778232864809/913445783011987508)__.\n",
    "This completes checks 3. and 4. above, though note that this does not prove anything before check 2. is also complete.\n"
   ]
  },
  {
   "cell_type": "code",
   "execution_count": 4,
   "metadata": {},
   "outputs": [],
   "source": [
    "# Take genesis hash from current go code\n",
    "# Golang ref: \n",
    "# https://github.com/kaspanet/kaspad/blob/master/domain/dagconfig/genesis.go#L56\n",
    "\n",
    "genesis_hash = bytes([\n",
    "    0x58, 0xc2, 0xd4, 0x19, 0x9e, 0x21, 0xf9, 0x10, \n",
    "    0xd1, 0x57, 0x1d, 0x11, 0x49, 0x69, 0xce, 0xce, \n",
    "    0xf4, 0x8f, 0x9, 0xf9, 0x34, 0xd4, 0x2c, 0xcb, \n",
    "    0x6a, 0x28, 0x1a, 0x15, 0x86, 0x8f, 0x29, 0x99])\n"
   ]
  },
  {
   "cell_type": "code",
   "execution_count": 5,
   "metadata": {},
   "outputs": [],
   "source": [
    "# Build genesis's coinbase tx payload, which references the pre-halt checkpoint \n",
    "# Golang ref: \n",
    "# https://github.com/kaspanet/kaspad/blob/master/domain/dagconfig/genesis.go#L18\n",
    "\n",
    "genesis_tx_payload = bytes([\n",
    "    0x00, 0x00, 0x00, 0x00, 0x00, 0x00, 0x00, 0x00, # Blue score\n",
    "    0x00, 0xE1, 0xF5, 0x05, 0x00, 0x00, 0x00, 0x00, # Subsidy\n",
    "    0x00, 0x00, # Script version\n",
    "    0x01,                                           # Varint\n",
    "    0x00,                                           # OP-FALSE\n",
    "    \n",
    "    # ומה די עליך ועל אחיך ייטב בשאר כספא ודהבה למעבד כרעות אלהכם תעבדון     \n",
    "    0xd7, 0x95, 0xd7, 0x9e, 0xd7, 0x94, 0x20, 0xd7,\n",
    "    0x93, 0xd7, 0x99, 0x20, 0xd7, 0xa2, 0xd7, 0x9c,\n",
    "    0xd7, 0x99, 0xd7, 0x9a, 0x20, 0xd7, 0x95, 0xd7,\n",
    "    0xa2, 0xd7, 0x9c, 0x20, 0xd7, 0x90, 0xd7, 0x97,\n",
    "    0xd7, 0x99, 0xd7, 0x9a, 0x20, 0xd7, 0x99, 0xd7,\n",
    "    0x99, 0xd7, 0x98, 0xd7, 0x91, 0x20, 0xd7, 0x91,\n",
    "    0xd7, 0xa9, 0xd7, 0x90, 0xd7, 0xa8, 0x20, 0xd7,\n",
    "    0x9b, 0xd7, 0xa1, 0xd7, 0xa4, 0xd7, 0x90, 0x20,\n",
    "    0xd7, 0x95, 0xd7, 0x93, 0xd7, 0x94, 0xd7, 0x91,\n",
    "    0xd7, 0x94, 0x20, 0xd7, 0x9c, 0xd7, 0x9e, 0xd7,\n",
    "    0xa2, 0xd7, 0x91, 0xd7, 0x93, 0x20, 0xd7, 0x9b,\n",
    "    0xd7, 0xa8, 0xd7, 0xa2, 0xd7, 0x95, 0xd7, 0xaa,\n",
    "    0x20, 0xd7, 0x90, 0xd7, 0x9c, 0xd7, 0x94, 0xd7,\n",
    "    0x9b, 0xd7, 0x9d, 0x20, 0xd7, 0xaa, 0xd7, 0xa2,\n",
    "    0xd7, 0x91, 0xd7, 0x93, 0xd7, 0x95, 0xd7, 0x9f,\n",
    "    \n",
    "    # Bitcoin block hash 0000000000000000000b1f8e1c17b0133d439174e52efbb0c41c3583a8aa66b0\n",
    "    0x00, 0x00, 0x00, 0x00, 0x00, 0x00, 0x00, 0x00,\n",
    "    0x00, 0x0b, 0x1f, 0x8e, 0x1c, 0x17, 0xb0, 0x13,\n",
    "    0x3d, 0x43, 0x91, 0x74, 0xe5, 0x2e, 0xfb, 0xb0,\n",
    "    0xc4, 0x1c, 0x35, 0x83, 0xa8, 0xaa, 0x66, 0xb0,\n",
    "    \n",
    "    # Checkpoint block hash 0fca37ca667c2d550a6c4416dad9717e50927128c424fa4edbebc436ab13aeef\n",
    "    0x0f, 0xca, 0x37, 0xca, 0x66, 0x7c, 0x2d, 0x55,\n",
    "    0x0a, 0x6c, 0x44, 0x16, 0xda, 0xd9, 0x71, 0x7e,\n",
    "    0x50, 0x92, 0x71, 0x28, 0xc4, 0x24, 0xfa, 0x4e,\n",
    "    0xdb, 0xeb, 0xc4, 0x36, 0xab, 0x13, 0xae, 0xef,\n",
    "])\n",
    "\n",
    "\n",
    "# Bitcoin explorer link: \n",
    "# https://blockstream.info/block/0000000000000000000b1f8e1c17b0133d439174e52efbb0c41c3583a8aa66b0\n",
    "# \n",
    "# Kaspad version release: \n",
    "# https://github.com/kaspanet/kaspad/releases/tag/v0.11.5-2 \n",
    "assert(bytes.fromhex('0000000000000000000b1f8e1c17b0133d439174e52efbb0c41c3583a8aa66b0') == \n",
    "       bytes([\n",
    "           0x00, 0x00, 0x00, 0x00, 0x00, 0x00, 0x00, 0x00,\n",
    "           0x00, 0x0b, 0x1f, 0x8e, 0x1c, 0x17, 0xb0, 0x13,\n",
    "           0x3d, 0x43, 0x91, 0x74, 0xe5, 0x2e, 0xfb, 0xb0,\n",
    "           0xc4, 0x1c, 0x35, 0x83, 0xa8, 0xaa, 0x66, 0xb0,]))\n",
    "\n",
    "assert(bytes.fromhex('0fca37ca667c2d550a6c4416dad9717e50927128c424fa4edbebc436ab13aeef') == \n",
    "       bytes([\n",
    "           0x0f, 0xca, 0x37, 0xca, 0x66, 0x7c, 0x2d, 0x55,\n",
    "           0x0a, 0x6c, 0x44, 0x16, 0xda, 0xd9, 0x71, 0x7e,\n",
    "           0x50, 0x92, 0x71, 0x28, 0xc4, 0x24, 0xfa, 0x4e,\n",
    "           0xdb, 0xeb, 0xc4, 0x36, 0xab, 0x13, 0xae, 0xef,]))\n"
   ]
  },
  {
   "cell_type": "markdown",
   "metadata": {},
   "source": [
    "Next, we manually construct a coinbase transaction with the hash of the data above as a payload. Here, again, you could either verify that the computation is identical to the client code, or appeal to the fact that if it isn't, but the verification still passes, then we have identified a collision in blake2b."
   ]
  },
  {
   "cell_type": "code",
   "execution_count": 6,
   "metadata": {},
   "outputs": [],
   "source": [
    "# Build genesis's coinbase tx. \n",
    "# Golang ref: \n",
    "# https://github.com/kaspanet/kaspad/blob/master/domain/dagconfig/genesis.go#L51\n",
    "\n",
    "genesis_coinbase_tx = type('Transaction', (object,), {})()\n",
    "genesis_coinbase_tx.version = 0\n",
    "genesis_coinbase_tx.subnetworkID = type('SubnetworkId', (object,), {})()\n",
    "genesis_coinbase_tx.subnetworkID.subnetworkId = bytes.fromhex(\n",
    "    '0100000000000000000000000000000000000000')\n",
    "genesis_coinbase_tx.inputs = []\n",
    "genesis_coinbase_tx.outputs = []\n",
    "genesis_coinbase_tx.lockTime = 0\n",
    "genesis_coinbase_tx.gas = 0\n",
    "genesis_coinbase_tx.payload = genesis_tx_payload"
   ]
  },
  {
   "cell_type": "markdown",
   "metadata": {},
   "source": [
    "The next block loads the ledger data from the synchronized node into the ```current_store``` variable, as well as the snapshot data into the ```pre_checkpoint_store``` variable."
   ]
  },
  {
   "cell_type": "code",
   "execution_count": 8,
   "metadata": {},
   "outputs": [],
   "source": [
    "pre_checkpoint_store = Store(r'/home/pool/data/kaspa-data-22-11-21-correct-utxo-commit')\n",
    "current_store = Store(r'/home/pool/.kaspad/kaspa-mainnet/datadir2')"
   ]
  },
  {
   "cell_type": "markdown",
   "metadata": {},
   "source": [
    "With all the required data and logic in place, we can start the verification process.\n",
    "\n",
    "First, we obtain the genesis block and see that it hashes correctly."
   ]
  },
  {
   "cell_type": "code",
   "execution_count": 18,
   "metadata": {},
   "outputs": [],
   "source": [
    "genesis_header = current_store.get_raw_header(genesis_hash)\n",
    "\n",
    "# Assert the genesis hash is correct\n",
    "assert(header_hash(genesis_header) == genesis_hash)"
   ]
  },
  {
   "cell_type": "markdown",
   "metadata": {},
   "source": [
    "We next verify that the hash of the coinbase transaction of the hardwired genesis block does match the hash of the coinbase transaction constructed above. Combined with the above, this completes checks 2-4."
   ]
  },
  {
   "cell_type": "code",
   "execution_count": 10,
   "metadata": {},
   "outputs": [
    {
     "name": "stdout",
     "output_type": "stream",
     "text": [
      "8ec898568c6801d13df4ee6e2a1b54b7e6236f671f20954f05306410518eeb32\n",
      "8ec898568c6801d13df4ee6e2a1b54b7e6236f671f20954f05306410518eeb32\n"
     ]
    }
   ],
   "source": [
    "# This shows that indeed current genesis refrences the checkpoint via the coinbase tx payload\n",
    "assert(\n",
    "    transaction_hash(genesis_coinbase_tx) == genesis_header.hashMerkleRoot.hash)\n",
    "\n",
    "print(transaction_hash(genesis_coinbase_tx).hex()) \n",
    "print(genesis_header.hashMerkleRoot.hash.hex())"
   ]
  },
  {
   "cell_type": "markdown",
   "metadata": {},
   "source": [
    "We next verify that the current chain of pruning points taken from the node leads to the hardwired genesis block. Completing check 1. above."
   ]
  },
  {
   "cell_type": "code",
   "execution_count": 11,
   "metadata": {},
   "outputs": [
    {
     "name": "stdout",
     "output_type": "stream",
     "text": [
      "Reached the queried genesis block: \n",
      " 58c2d4199e21f910d1571d114969cecef48f09f934d42ccb6a281a15868f2999 via 209 pruning points\n"
     ]
    }
   ],
   "source": [
    "# Show that tips from current database link to genesis\n",
    "tips, hst = current_store.tips()\n",
    "assert_cryptographic_hash_chain_to_genesis(current_store, tips[0], genesis_hash)"
   ]
  },
  {
   "cell_type": "markdown",
   "metadata": {},
   "source": [
    "We now see that the checkpoint block from the snapshot has the same UTXO state commitment as the genesis block, completing check 5."
   ]
  },
  {
   "cell_type": "code",
   "execution_count": 12,
   "metadata": {},
   "outputs": [
    {
     "name": "stdout",
     "output_type": "stream",
     "text": [
      "710f27df423e63aa6cdb72b89ea5a06cffa399d66f167704455b5af59def8e20\n",
      "710f27df423e63aa6cdb72b89ea5a06cffa399d66f167704455b5af59def8e20\n"
     ]
    }
   ],
   "source": [
    "# Now we move to the pre-halt database and show that the checkpoint was mined\n",
    "# over the original genesis (with an empty UTXO-set commitment)\n",
    "\n",
    "checkpoint_hash = bytes.fromhex(\n",
    "    '0fca37ca667c2d550a6c4416dad9717e50927128c424fa4edbebc436ab13aeef')\n",
    "checkpoint_header = pre_checkpoint_store.get_raw_header(checkpoint_hash)\n",
    "\n",
    "# Assert the checkpoint hash is correct\n",
    "assert(header_hash(checkpoint_header) == checkpoint_hash)\n",
    "\n",
    "# Show that genesis and the checkpoint share the same UTXO commitment\n",
    "assert(genesis_header.utxoCommitment.hash == checkpoint_header.utxoCommitment.hash)\n",
    "\n",
    "print(genesis_header.utxoCommitment.hash.hex()) \n",
    "print(checkpoint_header.utxoCommitment.hash.hex())"
   ]
  },
  {
   "cell_type": "markdown",
   "metadata": {},
   "source": [
    "Next, we repeat the check of the first step, only this time we are starting from the checkpoint block to arrive at the original genesis block, completing check 7."
   ]
  },
  {
   "cell_type": "code",
   "execution_count": 120,
   "metadata": {},
   "outputs": [],
   "source": [
    "# Golang ref from initial mainnet version: \n",
    "# https://github.com/kaspanet/kaspad/blob/v0.11.0/domain/dagconfig/genesis.go#L53C2-L56C49\n",
    "original_genesis = bytes([\n",
    "    0xca, 0xeb, 0x97, 0x96, 0x0a, 0x16, 0x0c, 0x21,\n",
    "    0x1a, 0x6b, 0x21, 0x96, 0xbd, 0x78, 0x39, 0x9f,\n",
    "    0xd4, 0xc4, 0xcc, 0x5b, 0x50, 0x9f, 0x55, 0xc1,\n",
    "    0x2c, 0x8a, 0x7d, 0x81, 0x5f, 0x75, 0x36, 0xea,])\n",
    "\n",
    "original_genesis_tx_payload = bytes([\n",
    "\t0x00, 0x00, 0x00, 0x00, 0x00, 0x00, 0x00, 0x00, # Blue score\n",
    "\t0x00, 0xE1, 0xF5, 0x05, 0x00, 0x00, 0x00, 0x00, # Subsidy\n",
    "\t0x00, 0x00, # Script version\n",
    "\t0x01,                                           # Varint\n",
    "\t0x00,                                           # OP-FALSE\n",
    "\n",
    "    # ומה די עליך ועל אחיך ייטב בשאר כספא ודהבה למעבד כרעות אלהכם תעבדון\n",
    "\t0xd7, 0x95, 0xd7, 0x9e, 0xd7, 0x94, 0x20, 0xd7,\n",
    "\t0x93, 0xd7, 0x99, 0x20, 0xd7, 0xa2, 0xd7, 0x9c,\n",
    "\t0xd7, 0x99, 0xd7, 0x9a, 0x20, 0xd7, 0x95, 0xd7,\n",
    "\t0xa2, 0xd7, 0x9c, 0x20, 0xd7, 0x90, 0xd7, 0x97,\n",
    "\t0xd7, 0x99, 0xd7, 0x9a, 0x20, 0xd7, 0x99, 0xd7,\n",
    "\t0x99, 0xd7, 0x98, 0xd7, 0x91, 0x20, 0xd7, 0x91,\n",
    "\t0xd7, 0xa9, 0xd7, 0x90, 0xd7, 0xa8, 0x20, 0xd7,\n",
    "\t0x9b, 0xd7, 0xa1, 0xd7, 0xa4, 0xd7, 0x90, 0x20,\n",
    "\t0xd7, 0x95, 0xd7, 0x93, 0xd7, 0x94, 0xd7, 0x91,\n",
    "\t0xd7, 0x94, 0x20, 0xd7, 0x9c, 0xd7, 0x9e, 0xd7,\n",
    "\t0xa2, 0xd7, 0x91, 0xd7, 0x93, 0x20, 0xd7, 0x9b,\n",
    "\t0xd7, 0xa8, 0xd7, 0xa2, 0xd7, 0x95, 0xd7, 0xaa,\n",
    "\t0x20, 0xd7, 0x90, 0xd7, 0x9c, 0xd7, 0x94, 0xd7,\n",
    "\t0x9b, 0xd7, 0x9d, 0x20, 0xd7, 0xaa, 0xd7, 0xa2,\n",
    "\t0xd7, 0x91, 0xd7, 0x93, 0xd7, 0x95, 0xd7, 0x9f,\n",
    "\n",
    "    # Bitcoin block hash 00000000000000000001733c62adb19f1b77fa0735d0e11f25af36fc9ca908a5\n",
    "\t0x00, 0x00, 0x00, 0x00, 0x00, 0x00, 0x00, 0x00,\n",
    "\t0x00, 0x01, 0x73, 0x3c, 0x62, 0xad, 0xb1, 0x9f,\n",
    "\t0x1b, 0x77, 0xfa, 0x07, 0x35, 0xd0, 0xe1, 0x1f,\n",
    "\t0x25, 0xaf, 0x36, 0xfc, 0x9c, 0xa9, 0x08, 0xa5,\n",
    "])\n",
    "\n",
    "# Bitcoin explorer link: \n",
    "# https://blockstream.info/block/00000000000000000001733c62adb19f1b77fa0735d0e11f25af36fc9ca908a5\n",
    "# \n",
    "# Kaspad mainnet launch version release: \n",
    "# https://github.com/kaspanet/kaspad/releases/tag/v0.11.0 \n",
    "assert(bytes.fromhex('00000000000000000001733c62adb19f1b77fa0735d0e11f25af36fc9ca908a5') == \n",
    "       bytes([\n",
    "           0x00, 0x00, 0x00, 0x00, 0x00, 0x00, 0x00, 0x00,\n",
    "           0x00, 0x01, 0x73, 0x3c, 0x62, 0xad, 0xb1, 0x9f,\n",
    "           0x1b, 0x77, 0xfa, 0x07, 0x35, 0xd0, 0xe1, 0x1f,\n",
    "           0x25, 0xaf, 0x36, 0xfc, 0x9c, 0xa9, 0x08, 0xa5,]))\n",
    "\n",
    "# Load the full genesis header from the pre-halt store\n",
    "original_genesis_header = pre_checkpoint_store.get_raw_header(original_genesis)\n",
    "assert(header_hash(original_genesis_header) == original_genesis)\n",
    "\n",
    "# Build genesis's coinbase tx. \n",
    "# Golang ref: \n",
    "# https://github.com/kaspanet/kaspad/blob/v0.11.0/domain/dagconfig/genesis.go#L47\n",
    "\n",
    "tx = type('Transaction', (object,), {})()\n",
    "tx.version = 0\n",
    "tx.subnetworkID = type('SubnetworkId', (object,), {})()\n",
    "tx.subnetworkID.subnetworkId = bytes.fromhex(\n",
    "    '0100000000000000000000000000000000000000')\n",
    "tx.inputs = []\n",
    "tx.outputs = []\n",
    "tx.lockTime = 0\n",
    "tx.gas = 0\n",
    "tx.payload = original_genesis_tx_payload\n",
    "\n",
    "# This shows that indeed the original genesis references the\n",
    "# bitcoin block mined a few minutes before launch via the coinbase tx payload\n",
    "assert(\n",
    "    transaction_hash(tx) == original_genesis_header.hashMerkleRoot.hash)"
   ]
  },
  {
   "cell_type": "code",
   "execution_count": 14,
   "metadata": {},
   "outputs": [
    {
     "name": "stdout",
     "output_type": "stream",
     "text": [
      "Reached the queried genesis block: \n",
      " caeb97960a160c211a6b2196bd78399fd4c4cc5b509f55c12c8a7d815f7536ea via 5 pruning points\n"
     ]
    }
   ],
   "source": [
    "assert_cryptographic_hash_chain_to_genesis(\n",
    "    pre_checkpoint_store, \n",
    "    checkpoint_hash, \n",
    "    original_genesis)"
   ]
  },
  {
   "cell_type": "markdown",
   "metadata": {},
   "source": [
    "Finally, we create a fresh __[MuHash](http://www.robos.org/sections/software/muhash/)__ containing an empty set, and verify that the UTXO commitment in the original genesis block matches this hash. This completes check 7. and the verification process. "
   ]
  },
  {
   "cell_type": "code",
   "execution_count": 15,
   "metadata": {},
   "outputs": [
    {
     "name": "stdout",
     "output_type": "stream",
     "text": [
      "544eb3142c000f0ad2c76ac41f4222abbababed830eeafee4b6dc56b52d5cac0\n",
      "544eb3142c000f0ad2c76ac41f4222abbababed830eeafee4b6dc56b52d5cac0\n"
     ]
    }
   ],
   "source": [
    "# Show that original genesis has an empty UTXO-set commitment\n",
    "\n",
    "# Golang ref: https://github.com/kaspanet/go-muhash/blob/main/muhash.go#L32\n",
    "empty_muhash_hash = bytes([\n",
    "    0x54, 0x4e, 0xb3, 0x14, 0x2c, 0x0, 0xf, 0xa, \n",
    "    0xd2, 0xc7, 0x6a, 0xc4, 0x1f, 0x42, 0x22, 0xab, \n",
    "    0xba, 0xba, 0xbe, 0xd8, 0x30, 0xee, 0xaf, 0xee, \n",
    "    0x4b, 0x6d, 0xc5, 0x6b, 0x52, 0xd5, 0xca, 0xc0])\n",
    "\n",
    "assert(original_genesis_header.utxoCommitment.hash == empty_muhash_hash)\n",
    "\n",
    "print(original_genesis_header.utxoCommitment.hash.hex()) \n",
    "print(empty_muhash_hash.hex())"
   ]
  },
  {
   "cell_type": "markdown",
   "metadata": {},
   "source": [
    "Thank you for taking the time to authenticate the integrity of Kaspa!"
   ]
  }
 ],
 "metadata": {
  "kernelspec": {
   "display_name": "Python 3 (ipykernel)",
   "language": "python",
   "name": "python3"
  },
  "language_info": {
   "codemirror_mode": {
    "name": "ipython",
    "version": 3
   },
   "file_extension": ".py",
   "mimetype": "text/x-python",
   "name": "python",
   "nbconvert_exporter": "python",
   "pygments_lexer": "ipython3",
   "version": "3.8.10"
  }
 },
 "nbformat": 4,
 "nbformat_minor": 4
}
