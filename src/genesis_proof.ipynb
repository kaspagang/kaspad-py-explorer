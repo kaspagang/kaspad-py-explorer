{
 "cells": [
  {
   "cell_type": "code",
   "execution_count": 1,
   "metadata": {},
   "outputs": [],
   "source": [
    "import os\n",
    "import numpy as np\n",
    "import pandas as pd\n",
    "import matplotlib.pyplot as plt\n",
    "from store import *\n",
    "import kbech32"
   ]
  },
  {
   "cell_type": "code",
   "execution_count": 2,
   "metadata": {},
   "outputs": [],
   "source": [
    "import hashlib\n",
    "import struct\n",
    "\n",
    "# Relevant hashing functions as implemented by the golang \n",
    "# and rust kaspa codebases\n",
    "# Note: uses only standart hash libs\n",
    "\n",
    "def transaction_id(t):\n",
    "    hasher = hashlib.blake2b(digest_size=32, key=b\"TransactionID\")\n",
    "    hasher.update(struct.pack(f\"<HQ\", t.version, len(t.inputs)))\n",
    "    for ti in t.inputs:\n",
    "        hasher.update(ti.previousOutpoint.transactionID.transactionId)\n",
    "        hasher.update(struct.pack(f\"<IQQ\", \n",
    "                                  ti.previousOutpoint.index, \n",
    "                                  0, \n",
    "                                  ti.sequence))\n",
    "\n",
    "    hasher.update(struct.pack(f\"<Q\", len(t.outputs)))\n",
    "    for to in t.outputs:\n",
    "        hasher.update(struct.pack(f\"<QHQ\", to.value, \n",
    "                                  to.scriptPublicKey.version, \n",
    "                                  len(to.scriptPublicKey.script)))\n",
    "        hasher.update(to.scriptPublicKey.script)\n",
    "        \n",
    "    hasher.update(struct.pack(f\"<Q\", t.lockTime))\n",
    "    hasher.update(t.subnetworkID.subnetworkId)\n",
    "    hasher.update(struct.pack(f\"<QQ\", t.gas, len(t.payload)))\n",
    "    hasher.update(t.payload)\n",
    "    return hasher.digest()\n",
    "\n",
    "def transaction_hash(t):\n",
    "    hasher = hashlib.blake2b(digest_size=32, key=b\"TransactionHash\")\n",
    "    hasher.update(struct.pack(f\"<HQ\", t.version, len(t.inputs)))\n",
    "    for ti in t.inputs:\n",
    "        hasher.update(ti.previousOutpoint.transactionID.transactionId)\n",
    "        hasher.update(struct.pack(f\"<IQ\", ti.previousOutpoint.index, \n",
    "                                  len(ti.signatureScript)))\n",
    "        hasher.update(ti.signatureScript)\n",
    "        # Note: a subsequent HF added sig_op_count hashing here\n",
    "        hasher.update(struct.pack(f\"<Q\", ti.sequence))\n",
    "\n",
    "    hasher.update(struct.pack(f\"<Q\", len(t.outputs)))\n",
    "    for to in t.outputs:\n",
    "        hasher.update(struct.pack(f\"<QHQ\", to.value, \n",
    "                                  to.scriptPublicKey.version, \n",
    "                                  len(to.scriptPublicKey.script)))\n",
    "        hasher.update(to.scriptPublicKey.script)\n",
    "        \n",
    "    hasher.update(struct.pack(f\"<Q\", t.lockTime))\n",
    "    hasher.update(t.subnetworkID.subnetworkId)\n",
    "    hasher.update(struct.pack(f\"<QQ\", t.gas, len(t.payload)))\n",
    "    hasher.update(t.payload)\n",
    "    return hasher.digest()\n",
    "\n",
    "def header_hash(h):\n",
    "    hasher = hashlib.blake2b(digest_size=32, key=b\"BlockHash\")\n",
    "    hasher.update(struct.pack(f\"<HQ\", h.version, len(h.parents)))\n",
    "    for level_parents in h.parents:\n",
    "        hasher.update(struct.pack(f\"<Q\", len(level_parents.parentHashes)))\n",
    "        for parent in level_parents.parentHashes:\n",
    "            hasher.update(parent.hash)\n",
    "    hasher.update(h.hashMerkleRoot.hash)    \n",
    "    hasher.update(h.acceptedIDMerkleRoot.hash)\n",
    "    hasher.update(h.utxoCommitment.hash)\n",
    "    hasher.update(struct.pack(f\"<QIQQQQ\", \n",
    "                              h.timeInMilliseconds, \n",
    "                              h.bits, \n",
    "                              h.nonce, \n",
    "                              h.daaScore, \n",
    "                              h.blueScore, \n",
    "                              len(h.blueWork)))\n",
    "    hasher.update(h.blueWork)\n",
    "    hasher.update(h.pruningPoint.hash)\n",
    "    return hasher.digest()"
   ]
  },
  {
   "cell_type": "code",
   "execution_count": 3,
   "metadata": {},
   "outputs": [],
   "source": [
    "# Asserts a verified chaih of hashes from the givan block to the given genesis\n",
    "def assert_cryptographic_hash_chain_to_genesis(\n",
    "    store, \n",
    "    block_hash, \n",
    "    genesis_hash):\n",
    "    \n",
    "    i = 0\n",
    "    while True:\n",
    "        if block_hash == genesis_hash:\n",
    "            print('Reached the queried genesis block: \\n', \n",
    "                  genesis_hash.hex(), 'via', i, 'pruning points')\n",
    "            return\n",
    "        header = store.get_raw_header(block_hash)\n",
    "        # Assert the block hash is correct\n",
    "        assert(header_hash(header) == block_hash)\n",
    "        block_hash = header.pruningPoint.hash\n",
    "        i += 1"
   ]
  },
  {
   "cell_type": "code",
   "execution_count": 4,
   "metadata": {},
   "outputs": [],
   "source": [
    "# Take genesis hash from current go code\n",
    "# Golang ref: \n",
    "# https://github.com/kaspanet/kaspad/blob/master/domain/dagconfig/genesis.go#L56\n",
    "\n",
    "genesis_hash = bytes([\n",
    "    0x58, 0xc2, 0xd4, 0x19, 0x9e, 0x21, 0xf9, 0x10, \n",
    "    0xd1, 0x57, 0x1d, 0x11, 0x49, 0x69, 0xce, 0xce, \n",
    "    0xf4, 0x8f, 0x9, 0xf9, 0x34, 0xd4, 0x2c, 0xcb, \n",
    "    0x6a, 0x28, 0x1a, 0x15, 0x86, 0x8f, 0x29, 0x99])\n"
   ]
  },
  {
   "cell_type": "code",
   "execution_count": 5,
   "metadata": {},
   "outputs": [],
   "source": [
    "# Build genesis's coinbase tx payload, which references the pre-halt checkpoint \n",
    "# Golang ref: \n",
    "# https://github.com/kaspanet/kaspad/blob/master/domain/dagconfig/genesis.go#L18\n",
    "\n",
    "genesis_tx_payload = bytes([\n",
    "    0x00, 0x00, 0x00, 0x00, 0x00, 0x00, 0x00, 0x00, # Blue score\n",
    "    0x00, 0xE1, 0xF5, 0x05, 0x00, 0x00, 0x00, 0x00, # Subsidy\n",
    "    0x00, 0x00, # Script version\n",
    "    0x01,                                           # Varint\n",
    "    0x00,                                           # OP-FALSE\n",
    "    \n",
    "    # ומה די עליך ועל אחיך ייטב בשאר כספא ודהבה למעבד כרעות אלהכם תעבדון     \n",
    "    0xd7, 0x95, 0xd7, 0x9e, 0xd7, 0x94, 0x20, 0xd7,\n",
    "    0x93, 0xd7, 0x99, 0x20, 0xd7, 0xa2, 0xd7, 0x9c,\n",
    "    0xd7, 0x99, 0xd7, 0x9a, 0x20, 0xd7, 0x95, 0xd7,\n",
    "    0xa2, 0xd7, 0x9c, 0x20, 0xd7, 0x90, 0xd7, 0x97,\n",
    "    0xd7, 0x99, 0xd7, 0x9a, 0x20, 0xd7, 0x99, 0xd7,\n",
    "    0x99, 0xd7, 0x98, 0xd7, 0x91, 0x20, 0xd7, 0x91,\n",
    "    0xd7, 0xa9, 0xd7, 0x90, 0xd7, 0xa8, 0x20, 0xd7,\n",
    "    0x9b, 0xd7, 0xa1, 0xd7, 0xa4, 0xd7, 0x90, 0x20,\n",
    "    0xd7, 0x95, 0xd7, 0x93, 0xd7, 0x94, 0xd7, 0x91,\n",
    "    0xd7, 0x94, 0x20, 0xd7, 0x9c, 0xd7, 0x9e, 0xd7,\n",
    "    0xa2, 0xd7, 0x91, 0xd7, 0x93, 0x20, 0xd7, 0x9b,\n",
    "    0xd7, 0xa8, 0xd7, 0xa2, 0xd7, 0x95, 0xd7, 0xaa,\n",
    "    0x20, 0xd7, 0x90, 0xd7, 0x9c, 0xd7, 0x94, 0xd7,\n",
    "    0x9b, 0xd7, 0x9d, 0x20, 0xd7, 0xaa, 0xd7, 0xa2,\n",
    "    0xd7, 0x91, 0xd7, 0x93, 0xd7, 0x95, 0xd7, 0x9f,\n",
    "    \n",
    "    # Bitcoin block hash 0000000000000000000b1f8e1c17b0133d439174e52efbb0c41c3583a8aa66b0\n",
    "    0x00, 0x00, 0x00, 0x00, 0x00, 0x00, 0x00, 0x00,\n",
    "    0x00, 0x0b, 0x1f, 0x8e, 0x1c, 0x17, 0xb0, 0x13,\n",
    "    0x3d, 0x43, 0x91, 0x74, 0xe5, 0x2e, 0xfb, 0xb0,\n",
    "    0xc4, 0x1c, 0x35, 0x83, 0xa8, 0xaa, 0x66, 0xb0,\n",
    "    \n",
    "    # Checkpoint block hash 0fca37ca667c2d550a6c4416dad9717e50927128c424fa4edbebc436ab13aeef\n",
    "    0x0f, 0xca, 0x37, 0xca, 0x66, 0x7c, 0x2d, 0x55,\n",
    "    0x0a, 0x6c, 0x44, 0x16, 0xda, 0xd9, 0x71, 0x7e,\n",
    "    0x50, 0x92, 0x71, 0x28, 0xc4, 0x24, 0xfa, 0x4e,\n",
    "    0xdb, 0xeb, 0xc4, 0x36, 0xab, 0x13, 0xae, 0xef,\n",
    "])\n",
    "\n",
    "\n",
    "# Bitcoin explorer link: \n",
    "# https://blockstream.info/block/0000000000000000000b1f8e1c17b0133d439174e52efbb0c41c3583a8aa66b0\n",
    "# \n",
    "# Kaspad version release: \n",
    "# https://github.com/kaspanet/kaspad/releases/tag/v0.11.5-2 \n",
    "assert(bytes.fromhex('0000000000000000000b1f8e1c17b0133d439174e52efbb0c41c3583a8aa66b0') == \n",
    "       bytes([\n",
    "           0x00, 0x00, 0x00, 0x00, 0x00, 0x00, 0x00, 0x00,\n",
    "           0x00, 0x0b, 0x1f, 0x8e, 0x1c, 0x17, 0xb0, 0x13,\n",
    "           0x3d, 0x43, 0x91, 0x74, 0xe5, 0x2e, 0xfb, 0xb0,\n",
    "           0xc4, 0x1c, 0x35, 0x83, 0xa8, 0xaa, 0x66, 0xb0,]))\n",
    "\n",
    "assert(bytes.fromhex('0fca37ca667c2d550a6c4416dad9717e50927128c424fa4edbebc436ab13aeef') == \n",
    "       bytes([\n",
    "           0x0f, 0xca, 0x37, 0xca, 0x66, 0x7c, 0x2d, 0x55,\n",
    "           0x0a, 0x6c, 0x44, 0x16, 0xda, 0xd9, 0x71, 0x7e,\n",
    "           0x50, 0x92, 0x71, 0x28, 0xc4, 0x24, 0xfa, 0x4e,\n",
    "           0xdb, 0xeb, 0xc4, 0x36, 0xab, 0x13, 0xae, 0xef,]))\n"
   ]
  },
  {
   "cell_type": "code",
   "execution_count": 6,
   "metadata": {},
   "outputs": [],
   "source": [
    "# Build genesis's coinbase tx. \n",
    "# Golang ref: \n",
    "# https://github.com/kaspanet/kaspad/blob/master/domain/dagconfig/genesis.go#L51\n",
    "\n",
    "genesis_coinbase_tx = type('Transaction', (object,), {})()\n",
    "genesis_coinbase_tx.version = 0\n",
    "genesis_coinbase_tx.subnetworkID = type('SubnetworkId', (object,), {})()\n",
    "genesis_coinbase_tx.subnetworkID.subnetworkId = bytes.fromhex(\n",
    "    '0100000000000000000000000000000000000000')\n",
    "genesis_coinbase_tx.inputs = []\n",
    "genesis_coinbase_tx.outputs = []\n",
    "genesis_coinbase_tx.lockTime = 0\n",
    "genesis_coinbase_tx.gas = 0\n",
    "genesis_coinbase_tx.payload = genesis_tx_payload"
   ]
  },
  {
   "cell_type": "code",
   "execution_count": 7,
   "metadata": {},
   "outputs": [],
   "source": [
    "pre_checkpoint_store = Store(r'D:\\kaspad-data\\kaspa-data-22-11-21-correct-utxo-commit\\data')\n",
    "current_store = Store(os.getenv('localappdata') + r'\\Kaspad\\kaspa-mainnet\\datadir2')"
   ]
  },
  {
   "cell_type": "code",
   "execution_count": 8,
   "metadata": {},
   "outputs": [],
   "source": [
    "genesis_header = current_store.get_raw_header(genesis_hash)\n",
    "\n",
    "# Assert the genesis hash is correct\n",
    "assert(header_hash(genesis_header) == genesis_hash)"
   ]
  },
  {
   "cell_type": "code",
   "execution_count": 9,
   "metadata": {},
   "outputs": [
    {
     "name": "stdout",
     "output_type": "stream",
     "text": [
      "8ec898568c6801d13df4ee6e2a1b54b7e6236f671f20954f05306410518eeb32\n",
      "8ec898568c6801d13df4ee6e2a1b54b7e6236f671f20954f05306410518eeb32\n"
     ]
    }
   ],
   "source": [
    "# This shows that indeed current genesis refrences the checkpoint via the coinbase tx payload\n",
    "assert(\n",
    "    transaction_hash(genesis_coinbase_tx) == genesis_header.hashMerkleRoot.hash)\n",
    "\n",
    "print(transaction_hash(genesis_coinbase_tx).hex()) \n",
    "print(genesis_header.hashMerkleRoot.hash.hex())"
   ]
  },
  {
   "cell_type": "code",
   "execution_count": 10,
   "metadata": {},
   "outputs": [
    {
     "name": "stdout",
     "output_type": "stream",
     "text": [
      "Reached the queried genesis block: \n",
      " 58c2d4199e21f910d1571d114969cecef48f09f934d42ccb6a281a15868f2999 via 209 pruning points\n"
     ]
    }
   ],
   "source": [
    "# Show that tips from current database link to genesis\n",
    "tips, hst = current_store.tips()\n",
    "assert_cryptographic_hash_chain_to_genesis(current_store, tips[0], genesis_hash)"
   ]
  },
  {
   "cell_type": "code",
   "execution_count": 11,
   "metadata": {},
   "outputs": [
    {
     "name": "stdout",
     "output_type": "stream",
     "text": [
      "710f27df423e63aa6cdb72b89ea5a06cffa399d66f167704455b5af59def8e20\n",
      "710f27df423e63aa6cdb72b89ea5a06cffa399d66f167704455b5af59def8e20\n"
     ]
    }
   ],
   "source": [
    "# Now we move to the pre-halt database and show that the checkpoint was mined\n",
    "# over the original genesis (with an empty UTXO-set commitment)\n",
    "\n",
    "checkpoint_hash = bytes.fromhex(\n",
    "    '0fca37ca667c2d550a6c4416dad9717e50927128c424fa4edbebc436ab13aeef')\n",
    "checkpoint_header = pre_checkpoint_store.get_raw_header(checkpoint_hash)\n",
    "\n",
    "# Assert the checkpoint hash is correct\n",
    "assert(header_hash(checkpoint_header) == checkpoint_hash)\n",
    "\n",
    "# Show that genesis and the checkpoint share the same UTXO commitment\n",
    "assert(genesis_header.utxoCommitment.hash == checkpoint_header.utxoCommitment.hash)\n",
    "\n",
    "print(genesis_header.utxoCommitment.hash.hex()) \n",
    "print(checkpoint_header.utxoCommitment.hash.hex())"
   ]
  },
  {
   "cell_type": "code",
   "execution_count": 12,
   "metadata": {},
   "outputs": [],
   "source": [
    "# Golang ref from initial mainnet version: \n",
    "# https://github.com/kaspanet/kaspad/blob/v0.11.0/domain/dagconfig/genesis.go#L53C2-L56C49\n",
    "original_genesis = bytes([\n",
    "    0xca, 0xeb, 0x97, 0x96, 0x0a, 0x16, 0x0c, 0x21,\n",
    "    0x1a, 0x6b, 0x21, 0x96, 0xbd, 0x78, 0x39, 0x9f,\n",
    "    0xd4, 0xc4, 0xcc, 0x5b, 0x50, 0x9f, 0x55, 0xc1,\n",
    "    0x2c, 0x8a, 0x7d, 0x81, 0x5f, 0x75, 0x36, 0xea,])"
   ]
  },
  {
   "cell_type": "code",
   "execution_count": 13,
   "metadata": {},
   "outputs": [
    {
     "name": "stdout",
     "output_type": "stream",
     "text": [
      "Reached the queried genesis block: \n",
      " caeb97960a160c211a6b2196bd78399fd4c4cc5b509f55c12c8a7d815f7536ea via 5 pruning points\n"
     ]
    }
   ],
   "source": [
    "assert_cryptographic_hash_chain_to_genesis(\n",
    "    pre_checkpoint_store, \n",
    "    checkpoint_hash, \n",
    "    original_genesis)"
   ]
  },
  {
   "cell_type": "code",
   "execution_count": 14,
   "metadata": {},
   "outputs": [
    {
     "name": "stdout",
     "output_type": "stream",
     "text": [
      "544eb3142c000f0ad2c76ac41f4222abbababed830eeafee4b6dc56b52d5cac0\n",
      "544eb3142c000f0ad2c76ac41f4222abbababed830eeafee4b6dc56b52d5cac0\n"
     ]
    }
   ],
   "source": [
    "# Show that original genesis has an empty UTXO-set commitment\n",
    "\n",
    "original_genesis_header = pre_checkpoint_store.get_raw_header(original_genesis)\n",
    "assert(header_hash(original_genesis_header) == original_genesis)\n",
    "\n",
    "# Golang ref: https://github.com/kaspanet/go-muhash/blob/main/muhash.go#L32\n",
    "empty_muhash_hash = bytes([\n",
    "    0x54, 0x4e, 0xb3, 0x14, 0x2c, 0x0, 0xf, 0xa, \n",
    "    0xd2, 0xc7, 0x6a, 0xc4, 0x1f, 0x42, 0x22, 0xab, \n",
    "    0xba, 0xba, 0xbe, 0xd8, 0x30, 0xee, 0xaf, 0xee, \n",
    "    0x4b, 0x6d, 0xc5, 0x6b, 0x52, 0xd5, 0xca, 0xc0])\n",
    "\n",
    "assert(original_genesis_header.utxoCommitment.hash == empty_muhash_hash)\n",
    "\n",
    "print(original_genesis_header.utxoCommitment.hash.hex()) \n",
    "print(empty_muhash_hash.hex())"
   ]
  },
  {
   "cell_type": "code",
   "execution_count": null,
   "metadata": {},
   "outputs": [],
   "source": []
  }
 ],
 "metadata": {
  "kernelspec": {
   "display_name": "Python 3",
   "language": "python",
   "name": "python3"
  },
  "language_info": {
   "codemirror_mode": {
    "name": "ipython",
    "version": 3
   },
   "file_extension": ".py",
   "mimetype": "text/x-python",
   "name": "python",
   "nbconvert_exporter": "python",
   "pygments_lexer": "ipython3",
   "version": "3.6.5"
  }
 },
 "nbformat": 4,
 "nbformat_minor": 2
}
