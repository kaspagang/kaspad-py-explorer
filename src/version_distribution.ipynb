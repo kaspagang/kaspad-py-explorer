{
 "cells": [
  {
   "cell_type": "code",
   "execution_count": 1,
   "metadata": {},
   "outputs": [],
   "source": [
    "import os\n",
    "import numpy as np\n",
    "import pandas as pd\n",
    "import matplotlib.pyplot as plt\n",
    "from store import *\n",
    "import kbech32"
   ]
  },
  {
   "cell_type": "code",
   "execution_count": 2,
   "metadata": {},
   "outputs": [],
   "source": [
    "store = Store('/home/jupyter/datadir2')"
   ]
  },
  {
   "cell_type": "code",
   "execution_count": 3,
   "metadata": {},
   "outputs": [],
   "source": [
    "store.load_recent_blocks(7200_000)"
   ]
  },
  {
   "cell_type": "code",
   "execution_count": 4,
   "metadata": {},
   "outputs": [
    {
     "data": {
      "application/vnd.jupyter.widget-view+json": {
       "model_id": "43138621350947a89f9c18158f27fcb1",
       "version_major": 2,
       "version_minor": 0
      },
      "text/plain": [
       "  0%|          | 0/7132 [00:00<?, ?it/s]"
      ]
     },
     "metadata": {},
     "output_type": "display_data"
    }
   ],
   "source": [
    "header_fields = ['timeInMilliseconds', 'blueScore', 'blueWork', 'daaScore', 'difficulty']\n",
    "block_fields = ['pubkey_script', 'kaspad_version', 'miner_version']\n",
    "count_fields = [] # ['num_parents', 'num_children', 'num_blues', 'num_reds']\n",
    "frames = store.load_data(header_fields=header_fields, block_fields=block_fields, count_fields=count_fields)"
   ]
  },
  {
   "cell_type": "code",
   "execution_count": 5,
   "metadata": {},
   "outputs": [
    {
     "data": {
      "text/plain": [
       "dict_keys(['hash', 'timeInMilliseconds', 'blueScore', 'blueWork', 'daaScore', 'difficulty', 'pubkey_script', 'kaspad_version', 'miner_version'])"
      ]
     },
     "execution_count": 5,
     "metadata": {},
     "output_type": "execute_result"
    }
   ],
   "source": [
    "frames.keys()"
   ]
  },
  {
   "cell_type": "code",
   "execution_count": 6,
   "metadata": {},
   "outputs": [],
   "source": [
    "df = pd.DataFrame(frames).set_index('hash')"
   ]
  },
  {
   "cell_type": "code",
   "execution_count": 7,
   "metadata": {},
   "outputs": [
    {
     "data": {
      "text/plain": [
       "(1703170010165, 7132)"
      ]
     },
     "execution_count": 7,
     "metadata": {},
     "output_type": "execute_result"
    }
   ],
   "source": [
    "pp_time = store.get_header_data(store.pruning_point()).timeInMilliseconds\n",
    "pp_time, len(df)"
   ]
  },
  {
   "cell_type": "code",
   "execution_count": 8,
   "metadata": {},
   "outputs": [
    {
     "data": {
      "text/plain": [
       "kaspad_version\n",
       "0.12.15    0.994952\n",
       "0.12.14    0.005048\n",
       "Name: proportion, dtype: float64"
      ]
     },
     "execution_count": 8,
     "metadata": {},
     "output_type": "execute_result"
    }
   ],
   "source": [
    "df['kaspad_version'].value_counts(normalize=True)"
   ]
  },
  {
   "cell_type": "code",
   "execution_count": 9,
   "metadata": {},
   "outputs": [],
   "source": [
    "def miner_type(miner_version):\n",
    "    if 'BzMiner' in miner_version:\n",
    "        return 'BzMiner'\n",
    "    if '0.2.1-GPU' in miner_version:\n",
    "        return 'CommunityMiner'\n",
    "#     if 'WoolyPooly' in miner_version:\n",
    "#         return 'WoolyPooly'\n",
    "#     if 'acc-pool' in miner_version:\n",
    "#         return 'acc-pool'\n",
    "    if 'KStratum' in miner_version:\n",
    "        return 'KStratum'\n",
    "    if 'onemorebsmith' in miner_version:\n",
    "        return 'onemorebsmith-bridge'\n",
    "    return miner_version\n",
    "\n",
    "df[\"miner_type\"] = df[\"miner_version\"].apply(miner_type)"
   ]
  },
  {
   "cell_type": "code",
   "execution_count": 12,
   "metadata": {},
   "outputs": [],
   "source": [
    "version_and_miner_type = (df['kaspad_version'] + '/' + df['miner_type']).value_counts(normalize=True)"
   ]
  },
  {
   "cell_type": "code",
   "execution_count": 13,
   "metadata": {},
   "outputs": [
    {
     "data": {
      "text/plain": [
       "0.12.15/kaspa-pool.org                      0.122406\n",
       "0.12.15/96380d695ec82f5b884dfe54386af091    0.082586\n",
       "0.12.15/5b376cc2acaf36edfb04162b588b3ecf    0.055805\n",
       "0.12.15/f478263d17acd1f7288d738689c05aa5    0.045990\n",
       "0.12.15/onemorebsmith-bridge                0.044448\n",
       "                                              ...   \n",
       "0.12.14/eu2.acc-pool.pw                     0.000140\n",
       "0.12.15/gpumine.org agent-pro-002/f5ab      0.000140\n",
       "0.12.15/Mined by in.kaspa.herominers.com    0.000140\n",
       "0.12.15/gpumine.org agent-pro-002/734b      0.000140\n",
       "0.12.15/gpumine.org agent-pro-002/da37      0.000140\n",
       "Name: proportion, Length: 233, dtype: float64"
      ]
     },
     "execution_count": 13,
     "metadata": {},
     "output_type": "execute_result"
    }
   ],
   "source": [
    "version_and_miner_type"
   ]
  },
  {
   "cell_type": "code",
   "execution_count": 14,
   "metadata": {},
   "outputs": [],
   "source": [
    "miner_type = df['miner_type'].value_counts(normalize=True)"
   ]
  },
  {
   "cell_type": "code",
   "execution_count": 15,
   "metadata": {},
   "outputs": [
    {
     "data": {
      "text/plain": [
       "miner_type\n",
       "kaspa-pool.org                      0.122406\n",
       "96380d695ec82f5b884dfe54386af091    0.082586\n",
       "5b376cc2acaf36edfb04162b588b3ecf    0.055805\n",
       "onemorebsmith-bridge                0.047112\n",
       "f478263d17acd1f7288d738689c05aa5    0.045990\n",
       "                                      ...   \n",
       "gpumine.org agent-pro-002/f5ab      0.000140\n",
       "Mined by in.kaspa.herominers.com    0.000140\n",
       "gpumine.org agent-pro-002/734b      0.000140\n",
       "2miners-eu-02                       0.000140\n",
       "gpumine.org agent-pro-002/da37      0.000140\n",
       "Name: proportion, Length: 230, dtype: float64"
      ]
     },
     "execution_count": 15,
     "metadata": {},
     "output_type": "execute_result"
    }
   ],
   "source": [
    "miner_type"
   ]
  },
  {
   "cell_type": "code",
   "execution_count": 25,
   "metadata": {},
   "outputs": [
    {
     "name": "stdout",
     "output_type": "stream",
     "text": [
      "0.12.15/kaspa-pool.org                        0.1224\n",
      "0.12.15/96380d695ec82f5b884dfe54386af091      0.0826\n",
      "0.12.15/5b376cc2acaf36edfb04162b588b3ecf      0.0558\n",
      "0.12.15/f478263d17acd1f7288d738689c05aa5      0.046\n",
      "0.12.15/onemorebsmith-bridge                  0.0444\n",
      "0.12.15/134e77530b7bc0f13dc19bc17fff4999      0.0435\n",
      "0.12.15/kaspaminer-0.12.13 ap86               0.0353\n",
      "0.12.15/kaspaminer-0.12.13 ap83               0.0315\n",
      "0.12.15/kaspaminer-0.12.13 ap85               0.0301\n",
      "0.12.15/kaspaminer-0.12.13 ap84               0.0297\n",
      "0.12.15/kaspaminer-0.12.13 ap82               0.0271\n",
      "0.12.15/tw-pool1-0                            0.0261\n",
      "0.12.15/tw-pool2-0                            0.0167\n",
      "0.12.15/4d9f2b504202355616e9fad02283df36      0.0139\n",
      "0.12.15/kaspaminer-0.12.13                    0.0129\n",
      "0.12.15/ANTPOOL-HK1                           0.0126\n",
      "0.12.15/ANTPOOL-HK2                           0.0126\n",
      "0.12.15/3fd6bdd3d5caeaabd8a1cd030c71f7b2      0.0125\n",
      "0.12.15/bc9a3d7eb2c90540c0d837cd3c8948fe      0.0122\n",
      "0.12.15/f33231fc97a1f7694f32b2abe79eca14      0.0108\n",
      "0.12.15/0d6e287c776d0d5964660db6d1625922      0.0104\n",
      "0.12.15/gpumine.org agent-pro-002             0.0097\n",
      "0.12.15/viabtc                                0.0097\n",
      "0.12.15/928b862ab32b88852968ba300c743241      0.0095\n",
      "0.12.15/445155e91063aa8db39603866eb6fb84      0.0094\n",
      "0.12.15/b1ebb246d7ce84cb83aabee4152f4dbb      0.0093\n",
      "0.12.15/c504b403d6e255f1e4da03e1ef7db80d      0.0091\n",
      "0.12.15/K1PoolAsicUS3                         0.0081\n",
      "0.12.15/gpumine.org agent-pro-003             0.0081\n",
      "0.12.15/41d11b6a9a71ed28a3e4066eac3561f2      0.008\n",
      "0.12.15/3fdb9ad620b4cf3abe101321fdc3de1c      0.008\n",
      "0.12.15/K1PoolAsic3                           0.0074\n",
      "0.12.15/05cc70493161c74f42073bda0cc251fa      0.0066\n",
      "0.12.15/41e800eb5e714619ac3610aeb6830097      0.0064\n",
      "0.12.15/2miners-us-04                         0.0059\n",
      "0.12.15/8e67f1d3b682a58c403b1c55631985f7      0.0056\n",
      "0.12.15/K1PoolAsicCN3                         0.0053\n",
      "0.12.15/2miners-eu-17                         0.0053\n",
      "0.12.15/Mined by de.kaspa.herominers.com      0.0052\n",
      "0.12.15/2miners-eu-18                         0.0052\n",
      "0.12.15/0e7ab80b507dbc230d6e12c8c5635d5a      0.005\n",
      "0.12.15/ANTPOOL-FJNY1                         0.005\n",
      "0.12.15/49da0a131f48ee00b7c2ba430732e5ec      0.0048\n",
      "0.12.15/2miners-eu-19                         0.0046\n",
      "0.12.15/88ca9a2431d9493c8cc29a67ad31f201      0.0045\n",
      "0.12.15/a36e64330273c9dfe7d08b780b0c2d94      0.0043\n",
      "0.12.15/2miners-eu-20                         0.0041\n",
      "0.12.15/2miners-eu-16                         0.0039\n",
      "0.12.15/WoolyPooly DE1-kas-1                  0.0039\n",
      "0.12.15/2miners-as-04                         0.0038\n",
      "0.12.15/87a2699a022c1b43fdf7c1db7714eafa      0.0036\n",
      "0.12.15/1691507d2c5faeb9d74147b45ea434bc      0.0036\n",
      "0.12.15/Mined by us2.kaspa.herominers.com     0.0035\n",
      "0.12.15/Mined by us.kaspa.herominers.com      0.0034\n",
      "0.12.15/458f9c3225ad5ee05f8855c4e77600d5      0.0034\n",
      "0.12.15/K1PoolAsicEU9                         0.0031\n",
      "0.12.15/579167f3c4bae2ebe7095b4fa24b0136      0.0031\n",
      "0.12.15/WoolyPooly DE2-kas-1                  0.0029\n",
      "0.12.15/f64aeb84df6d66d644d57b0a6c91c6dd      0.0029\n",
      "0.12.15/tw-pool3-0                            0.0028\n",
      "0.12.15/0dcdba628949093f7736fce281215113      0.0027\n",
      "0.12.15/Mined by ca.kaspa.herominers.com      0.0027\n",
      "0.12.15/30a5b70562b3d91fa1e95af0ce67f00c      0.0027\n",
      "0.12.14/onemorebsmith-bridge                  0.0027\n",
      "0.12.15/Mined by ru.kaspa.herominers.com      0.0025\n",
      "0.12.15/2bc971a656e2c2580e44868013918707      0.0024\n",
      "0.12.15/kaspaminer-0.12.13a101                0.0024\n",
      "0.12.15/2miners-us-02                         0.0024\n",
      "0.12.15/Foo the bar                           0.0022\n",
      "0.12.15/e1278b9dec9ba43bdbe28d055561e44a      0.0022\n",
      "0.12.15/cbd4c201c170ec10b82fddf8219adc4d      0.0022\n",
      "0.12.15/2miners-as-03                         0.0021\n",
      "0.12.15/kaspaminer-0.12.13 ap1                0.0021\n",
      "0.12.15/K1PoolAsic                            0.002\n",
      "0.12.15/K1PoolAsicUS                          0.0018\n",
      "0.12.15/Mined by hk.kaspa.herominers.com      0.0018\n",
      "0.12.15/2miners-eu-07                         0.0017\n",
      "0.12.15/kaspaminer-vacj2                      0.0017\n",
      "0.12.15/K1PoolAsicCN                          0.0015\n",
      "0.12.15/K1PoolAsic0                           0.0015\n",
      "0.12.15/2miners-eu-10                         0.0014\n",
      "0.12.15/2miners-eu-08                         0.0014\n",
      "0.12.15/2miners-as-02                         0.0014\n",
      "0.12.15/p1pool                                0.0014\n",
      "0.12.15/2miners-eu-09                         0.0013\n",
      "0.12.15/2miners-eu-14                         0.0013\n",
      "0.12.15/Mined by kr.kaspa.herominers.com      0.0011\n",
      "0.12.15/K1PoolAsicCN9                         0.0011\n",
      "0.12.15/K1PoolAsicUS9                         0.0011\n",
      "0.12.15/ https://pool.kryptex.com (a0b485d6fa8db309d91b645cb9de3e41) 0.0011\n",
      "0.12.15/kas.CrazyPool.org/v1.0.1              0.001\n",
      "0.12.15/Mined by sg.kaspa.herominers.com      0.001\n",
      "0.12.14/okminer                               0.001\n",
      "0.12.15/2miners-eu-06                         0.001\n",
      "0.12.15/K1PoolAsicUS0                         0.001\n",
      "0.12.15/2miners-solo-us-01                    0.0008\n",
      "0.12.15/K1PoolAsicCN0                         0.0008\n",
      "0.12.15/K1PoolSoloAsicUS3                     0.0008\n",
      "0.12.15/2miners-solo-eu-02                    0.0008\n",
      "0.12.15/2miners-solo-eu-01                    0.0008\n",
      "0.12.15/SoloPool.org                          0.0008\n",
      "0.12.15/ https://pool.kryptex.com (f2e5ee7f19d8c7aa3b978584c1649a43) 0.0007\n",
      "0.12.15/2miners-eu-12                         0.0007\n",
      "0.12.15/2miners-eu-11                         0.0007\n",
      "0.12.15/2miners-solo-as-01                    0.0007\n",
      "0.12.15/WoolyPooly SG2-kas-1                  0.0007\n",
      "0.12.15/gpumine.org node-pro-002              0.0006\n",
      "0.12.15/ https://pool.kryptex.com (086552f17f5587026fb15a0599577b5a) 0.0006\n",
      "0.12.15/gpumine.org node-pro-001              0.0004\n",
      "0.12.15/Mined by au.kaspa.herominers.com      0.0004\n",
      "0.12.15/gpumine.org agent-pro-001             0.0004\n",
      "0.12.15/kaspaminer-np801                      0.0004\n",
      "0.12.15/ https://pool.kryptex.com (49b116391bcb546b2919201329265d1e) 0.0004\n",
      "0.12.15/nanopool.org                          0.0004\n",
      "0.12.15/WoolyPooly US1-kas-1                  0.0004\n",
      "0.12.14/kaspaminer-0.12.13                    0.0004\n",
      "0.12.15/0.12.5                                0.0004\n",
      "0.12.15/WoolyPooly RU2-kas-1                  0.0004\n",
      "0.12.15/2miners-eu-13                         0.0004\n",
      "0.12.15/2miners-eu-15                         0.0003\n",
      "0.12.15/2miners-us-03                         0.0003\n",
      "0.12.14/                                      0.0003\n",
      "0.12.14/gqsbrs                                0.0003\n",
      "0.12.15/K1PoolACN3V                           0.0003\n",
      "0.12.14/BaikalMine_POOLS                      0.0003\n",
      "0.12.15/WoolyPooly DE2-skas-1                 0.0003\n",
      "0.12.15/WoolyPooly TR2-kas-1                  0.0003\n",
      "0.12.15/K1PoolSoloAsicUS9                     0.0003\n",
      "0.12.15/Mined by fi.kaspa.herominers.com      0.0003\n",
      "0.12.15/gpumine.org agent-pro-002/ecaf        0.0001\n",
      "0.12.15/gpumine.org agent-pro-002/b138        0.0001\n",
      "0.12.15/gpumine.org agent-pro-003/76ee        0.0001\n",
      "0.12.15/gpumine.org agent-pro-002/d835        0.0001\n",
      "0.12.15/gpumine.org agent-pro-003/db88        0.0001\n",
      "0.12.15/WoolyPooly KR2-kas-1                  0.0001\n",
      "0.12.15/gpumine.org agent-pro-002/7f60        0.0001\n",
      "0.12.15/gpumine.org node-pro-002/0d49         0.0001\n",
      "0.12.15/gpumine.org agent-pro-003/f0fa        0.0001\n",
      "0.12.15/gpumine.org agent-pro-003/b71c        0.0001\n",
      "0.12.15/gpumine.org agent-pro-002/df9e        0.0001\n",
      "0.12.15/gpumine.org node-pro-002/be6d         0.0001\n",
      "0.12.15/gpumine.org agent-pro-002/6956        0.0001\n",
      "0.12.15/gpumine.org agent-pro-003/8d63        0.0001\n",
      "0.12.15/gpumine.org agent-pro-002/0e28        0.0001\n",
      "0.12.15/gpumine.org agent-pro-003/e5a6        0.0001\n",
      "0.12.15/gpumine.org agent-pro-003/61ee        0.0001\n",
      "0.12.15/K1Pool                                0.0001\n",
      "0.12.15/gpumine.org agent-pro-002/bc86        0.0001\n",
      "0.12.15/gpumine.org agent-pro-003/fa50        0.0001\n",
      "0.12.15/gpumine.org agent-pro-003/38c4        0.0001\n",
      "0.12.15/gpumine.org agent-pro-002/0f71        0.0001\n",
      "0.12.15/gpumine.org agent-pro-003/dcdd        0.0001\n",
      "0.12.15/K1PoolSoloAsicCN9                     0.0001\n",
      "0.12.15/gpumine.org agent-pro-002/5d67        0.0001\n",
      "0.12.15/K1PoolSoloAsic9                       0.0001\n",
      "0.12.15/gpumine.org agent-pro-002/6bd1        0.0001\n",
      "0.12.15/gpumine.org agent-pro-002/cbcd        0.0001\n",
      "0.12.15/gpumine.org agent-pro-002/58fe        0.0001\n",
      "0.12.15/gpumine.org agent-pro-002/da67        0.0001\n",
      "0.12.15/gpumine.org agent-pro-003/1022        0.0001\n",
      "0.12.15/gpumine.org agent-pro-002/ef0e        0.0001\n",
      "0.12.15/gpumine.org agent-pro-002/1d39        0.0001\n",
      "0.12.15/gpumine.org agent-pro-002/4dc8        0.0001\n",
      "0.12.15/gpumine.org agent-pro-002/166a        0.0001\n",
      "0.12.15/gpumine.org agent-pro-002/ca19        0.0001\n",
      "0.12.15/gpumine.org agent-pro-003/3fc4        0.0001\n",
      "0.12.15/gpumine.org agent-pro-003/7cef        0.0001\n",
      "0.12.15/gpumine.org agent-pro-002/ab09        0.0001\n",
      "0.12.15/gpumine.org agent-pro-002/7892        0.0001\n",
      "0.12.15/gpumine.org agent-pro-002/8953        0.0001\n",
      "0.12.15/gpumine.org agent-pro-002/928a        0.0001\n",
      "0.12.15/gpumine.org agent-pro-003/062c        0.0001\n",
      "0.12.15/                                      0.0001\n",
      "0.12.15/K1PoolSoloAsicCN0                     0.0001\n",
      "0.12.15/gpumine.org agent-pro-002/3ff0        0.0001\n",
      "0.12.15/gpumine.org agent-pro-003/7580        0.0001\n",
      "0.12.15/gpumine.org agent-pro-002/9e9b        0.0001\n",
      "0.12.15/WoolyPooly SG1-skas-1                 0.0001\n",
      "0.12.15/gpumine.org agent-pro-002/af4b        0.0001\n",
      "0.12.15/gpumine.org agent-pro-002/3b6c        0.0001\n",
      "0.12.15/gpumine.org agent-pro-003/c718        0.0001\n",
      "0.12.15/gpumine.org agent-pro-002/83fc        0.0001\n",
      "0.12.15/gpumine.org agent-pro-002/38f1        0.0001\n",
      "0.12.15/gpumine.org agent-pro-002/7db2        0.0001\n",
      "0.12.15/gpumine.org agent-pro-002/5604        0.0001\n",
      "0.12.15/gpumine.org agent-pro-002/39c6        0.0001\n",
      "0.12.15/gpumine.org agent-pro-003/7d6f        0.0001\n",
      "0.12.15/gpumine.org agent-pro-003/5ff8        0.0001\n",
      "0.12.15/gpumine.org agent-pro-002/c5fa        0.0001\n",
      "0.12.15/Mined by br.kaspa.herominers.com      0.0001\n",
      "0.12.15/WoolyPooly DE1-skas-1                 0.0001\n",
      "0.12.15/gpumine.org agent-pro-002/d70f        0.0001\n",
      "0.12.15/gpumine.org agent-pro-002/aade        0.0001\n",
      "0.12.15/gpumine.org agent-pro-003/06a1        0.0001\n",
      "0.12.15/2miners-eu-03                         0.0001\n",
      "0.12.15/kaspaminer-12.13fp4a                  0.0001\n",
      "0.12.15/gpumine.org agent-pro-002/4510        0.0001\n",
      "0.12.15/gpumine.org agent-pro-002/35fe        0.0001\n",
      "0.12.15/gpumine.org agent-pro-002/7775        0.0001\n",
      "0.12.15/gpumine.org agent-pro-002/8e48        0.0001\n",
      "0.12.15/gpumine.org agent-pro-002/0e09        0.0001\n",
      "0.12.15/gpumine.org agent-pro-003/4ef1        0.0001\n",
      "0.12.15/gpumine.org agent-pro-003/e247        0.0001\n",
      "0.12.15/2miners-eu-04                         0.0001\n",
      "0.12.15/gpumine.org agent-pro-003/6ba8        0.0001\n",
      "0.12.15/gpumine.org agent-pro-003/3d62        0.0001\n",
      "0.12.15/gpumine.org agent-pro-001/ad9e        0.0001\n",
      "0.12.15/gpumine.org agent-pro-002/477f        0.0001\n",
      "0.12.15/2miners-eu-02                         0.0001\n",
      "0.12.15/gpumine.org agent-pro-002/81e3        0.0001\n",
      "0.12.15/gpumine.org agent-pro-003/7027        0.0001\n",
      "0.12.15/gpumine.org agent-pro-002/408e        0.0001\n",
      "0.12.15/gpumine.org agent-pro-002/bcb4        0.0001\n",
      "0.12.15/gpumine.org agent-pro-002/250e        0.0001\n",
      "0.12.15/gpumine.org agent-pro-002/9736        0.0001\n",
      "0.12.15/gpumine.org node-pro-002/72b4         0.0001\n",
      "0.12.15/WoolyPooly SG1-kas-1                  0.0001\n",
      "0.12.15/gpumine.org agent-pro-003/9cbd        0.0001\n",
      "0.12.15/gpumine.org agent-pro-003/f4c1        0.0001\n",
      "0.12.15/gpumine.org agent-pro-002/ea5b        0.0001\n",
      "0.12.15/K1PoolSoloAsicUS0                     0.0001\n",
      "0.12.15/K1PoolSoloAsicCN3                     0.0001\n",
      "0.12.15/WoolyPooly US1-skas-1                 0.0001\n",
      "0.12.15/gpumine.org agent-pro-003/e542        0.0001\n",
      "0.12.15/gpumine.org agent-pro-003/c6a4        0.0001\n",
      "0.12.15/gpumine.org agent-pro-003/bf97        0.0001\n",
      "0.12.15/gpumine.org agent-pro-003/d493        0.0001\n",
      "0.12.15/WoolyPooly SG2-skas-1                 0.0001\n",
      "0.12.14/eu2.acc-pool.pw                       0.0001\n",
      "0.12.15/gpumine.org agent-pro-002/f5ab        0.0001\n",
      "0.12.15/Mined by in.kaspa.herominers.com      0.0001\n",
      "0.12.15/gpumine.org agent-pro-002/734b        0.0001\n",
      "0.12.15/gpumine.org agent-pro-002/da37        0.0001\n"
     ]
    }
   ],
   "source": [
    "for entry in version_and_miner_type.items(): #Full list of versions and miner types\n",
    "\tprint(entry[0].ljust(45), round(entry[1],4))"
   ]
  },
  {
   "cell_type": "code",
   "execution_count": null,
   "metadata": {},
   "outputs": [],
   "source": [
    "for entry in version_and_miner_type.items(): #Full list of versions and miner types\n",
    "\tprint(entry[0].ljust(45), round(entry[1],4))"
   ]
  },
  {
   "cell_type": "code",
   "execution_count": 12,
   "metadata": {},
   "outputs": [],
   "source": [
    "store.close()"
   ]
  },
  {
   "cell_type": "code",
   "execution_count": null,
   "metadata": {},
   "outputs": [],
   "source": []
  }
 ],
 "metadata": {
  "kernelspec": {
   "display_name": "Python 3 (ipykernel)",
   "language": "python",
   "name": "python3"
  },
  "language_info": {
   "codemirror_mode": {
    "name": "ipython",
    "version": 3
   },
   "file_extension": ".py",
   "mimetype": "text/x-python",
   "name": "python",
   "nbconvert_exporter": "python",
   "pygments_lexer": "ipython3",
   "version": "3.10.12"
  }
 },
 "nbformat": 4,
 "nbformat_minor": 4
}
